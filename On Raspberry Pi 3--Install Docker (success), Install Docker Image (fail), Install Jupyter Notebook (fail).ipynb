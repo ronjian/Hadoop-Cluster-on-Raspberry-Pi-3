{
 "cells": [
  {
   "cell_type": "markdown",
   "metadata": {},
   "source": [
    "## Reference:\n",
    "https://blog.sicara.com/get-started-pyspark-jupyter-guide-tutorial-ae2fe84f594f  \n",
    "https://docs.docker.com/engine/installation/linux/docker-ce/debian/#install-using-the-convenience-script  \n",
    "https://blog.alexellis.io/getting-started-with-docker-on-raspberry-pi/  \n",
    "https://hub.docker.com/r/jupyter/all-spark-notebook/  "
   ]
  },
  {
   "cell_type": "markdown",
   "metadata": {},
   "source": [
    "## install docker on raspberry:\n",
    "```shell\n",
    "curl -fsSL get.docker.com -o get-docker.sh\n",
    "sudo sh get-docker.sh\n",
    "sudo systemctl enable docker\n",
    "sudo reboot\n",
    "sudo systemctl start docker\n",
    "sudo usermod -aG docker pi\n",
    "#verify:\n",
    "sudo docker run hello-world\n",
    "```"
   ]
  },
  {
   "cell_type": "markdown",
   "metadata": {},
   "source": [
    "## Install \"all-spark-notebook\" image\n",
    "```shell\n",
    "docker pull jupyter/all-spark-notebook\n",
    "docker run -it --rm -p 8888:8888 jupyter/all-spark-notebook\n",
    "standard_init_linux.go:195: exec user process caused \"exec format error\"\n",
    "```\n",
    "**This image is not support raspberry, see [here](https://hub.docker.com/u/hypriot/) for most Raspberry Pi support docker images**"
   ]
  },
  {
   "cell_type": "markdown",
   "metadata": {},
   "source": [
    "## Install miniconda enviroment:\n",
    "[reference](https://stackoverflow.com/questions/39371772/how-to-install-anaconda-on-raspberry-pi-3-model-b)\n",
    "```shell\n",
    "wget http://repo.continuum.io/miniconda/Miniconda3-latest-Linux-armv7l.sh\n",
    "sudo /bin/bash Miniconda3-latest-Linux-armv7l.sh\n",
    "# When installing change the default dir installation from /root/miniconda3 to:\n",
    "# /home/pi/miniconda3\n",
    "sudo nano /etc/profile\n",
    "#prepend this : export PATH=\"/home/pi/miniconda3/bin:\"\n",
    "sudo ln -sf /etc/profile /root/.bashrc\n",
    "sudo ln -sf /etc/profile /home/pi/.bashrc\n",
    "source /etc/profile\n",
    "pi@raspberrypi2:~$ conda install jupyter \n",
    "Fetching package metadata: ....\n",
    "Error: No packages found in current linux-armv7l channels matching: jupyter\n",
    "```\n",
    "**Jupyter can't be installed on Raspberry Pi**"
   ]
  },
  {
   "cell_type": "code",
   "execution_count": null,
   "metadata": {
    "collapsed": true
   },
   "outputs": [],
   "source": []
  }
 ],
 "metadata": {
  "kernelspec": {
   "display_name": "Python 3",
   "language": "python",
   "name": "python3"
  },
  "language_info": {
   "codemirror_mode": {
    "name": "ipython",
    "version": 3
   },
   "file_extension": ".py",
   "mimetype": "text/x-python",
   "name": "python",
   "nbconvert_exporter": "python",
   "pygments_lexer": "ipython3",
   "version": "3.6.1"
  }
 },
 "nbformat": 4,
 "nbformat_minor": 2
}
