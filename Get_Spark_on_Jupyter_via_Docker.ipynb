{
 "cells": [
  {
   "cell_type": "markdown",
   "metadata": {},
   "source": [
    "# Get Spark on Jupyter via Docker\n",
    "## referring:\n",
    "https://blog.sicara.com/get-started-pyspark-jupyter-guide-tutorial-ae2fe84f594f  \n",
    "https://docs.docker.com/engine/installation/linux/docker-ce/debian/#install-using-the-convenience-script  \n",
    "https://blog.alexellis.io/getting-started-with-docker-on-raspberry-pi/  \n",
    "https://hub.docker.com/r/jupyter/all-spark-notebook/  "
   ]
  },
  {
   "cell_type": "markdown",
   "metadata": {},
   "source": [
    "## install docker on raspberry:\n",
    "```shell\n",
    "curl -fsSL get.docker.com -o get-docker.sh\n",
    "sudo sh get-docker.sh\n",
    "sudo systemctl enable docker\n",
    "#reboot Pi\n",
    "sudo systemctl start docker\n",
    "sudo usermod -aG docker pi\n",
    "#verify:\n",
    "docker run hello-world\n",
    "```"
   ]
  },
  {
   "cell_type": "markdown",
   "metadata": {},
   "source": [
    "## Install \"all-spark-notebook\" image\n",
    "```shell\n",
    "docker pull jupyter/all-spark-notebook\n",
    "\n",
    "```"
   ]
  },
  {
   "cell_type": "code",
   "execution_count": null,
   "metadata": {
    "collapsed": true
   },
   "outputs": [],
   "source": []
  }
 ],
 "metadata": {
  "kernelspec": {
   "display_name": "Python [conda root]",
   "language": "python",
   "name": "conda-root-py"
  },
  "language_info": {
   "codemirror_mode": {
    "name": "ipython",
    "version": 3
   },
   "file_extension": ".py",
   "mimetype": "text/x-python",
   "name": "python",
   "nbconvert_exporter": "python",
   "pygments_lexer": "ipython3",
   "version": "3.6.1"
  }
 },
 "nbformat": 4,
 "nbformat_minor": 2
}
